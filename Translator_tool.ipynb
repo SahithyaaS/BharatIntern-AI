{
  "nbformat": 4,
  "nbformat_minor": 0,
  "metadata": {
    "colab": {
      "provenance": []
    },
    "kernelspec": {
      "name": "python3",
      "display_name": "Python 3"
    },
    "language_info": {
      "name": "python"
    }
  },
  "cells": [
    {
      "cell_type": "code",
      "source": [
        "pip install translate"
      ],
      "metadata": {
        "colab": {
          "base_uri": "https://localhost:8080/"
        },
        "id": "X7S4fBo9UhlF",
        "outputId": "d883b71b-e2a8-4903-a76c-b40e050f542a"
      },
      "execution_count": null,
      "outputs": [
        {
          "output_type": "stream",
          "name": "stdout",
          "text": [
            "Collecting translate\n",
            "  Downloading translate-3.6.1-py2.py3-none-any.whl (12 kB)\n",
            "Requirement already satisfied: click in /usr/local/lib/python3.10/dist-packages (from translate) (8.1.6)\n",
            "Requirement already satisfied: lxml in /usr/local/lib/python3.10/dist-packages (from translate) (4.9.3)\n",
            "Requirement already satisfied: requests in /usr/local/lib/python3.10/dist-packages (from translate) (2.31.0)\n",
            "Collecting libretranslatepy==2.1.1 (from translate)\n",
            "  Downloading libretranslatepy-2.1.1-py3-none-any.whl (3.2 kB)\n",
            "Requirement already satisfied: charset-normalizer<4,>=2 in /usr/local/lib/python3.10/dist-packages (from requests->translate) (3.2.0)\n",
            "Requirement already satisfied: idna<4,>=2.5 in /usr/local/lib/python3.10/dist-packages (from requests->translate) (3.4)\n",
            "Requirement already satisfied: urllib3<3,>=1.21.1 in /usr/local/lib/python3.10/dist-packages (from requests->translate) (2.0.4)\n",
            "Requirement already satisfied: certifi>=2017.4.17 in /usr/local/lib/python3.10/dist-packages (from requests->translate) (2023.7.22)\n",
            "Installing collected packages: libretranslatepy, translate\n",
            "Successfully installed libretranslatepy-2.1.1 translate-3.6.1\n"
          ]
        }
      ]
    },
    {
      "cell_type": "code",
      "execution_count": null,
      "metadata": {
        "colab": {
          "base_uri": "https://localhost:8080/"
        },
        "id": "7M7BVhlaUVeO",
        "outputId": "64162df3-71d0-412c-ea89-105cc5fd7591"
      },
      "outputs": [
        {
          "output_type": "stream",
          "name": "stdout",
          "text": [
            "Enter the source language: english\n",
            "Enter the target language: french\n",
            "Enter the text to translate: good morning\n",
            "Translated text: bonjour et bonjour\n"
          ]
        }
      ],
      "source": [
        "from translate import Translator\n",
        "\n",
        "def translate_text(text, source_lang, target_lang):\n",
        "    translator = Translator(from_lang=source_lang, to_lang=target_lang)\n",
        "    translation = translator.translate(text)\n",
        "    return translation\n",
        "\n",
        "# Get language choices from the user\n",
        "source_lang = input(\"Enter the source language: \")\n",
        "target_lang = input(\"Enter the target language: \")\n",
        "\n",
        "# Test the translator\n",
        "text = input(\"Enter the text to translate: \")\n",
        "translated_text = translate_text(text, source_lang, target_lang)\n",
        "print(\"Translated text:\", translated_text)"
      ]
    },
    {
      "cell_type": "code",
      "source": [],
      "metadata": {
        "id": "7CSmFDGUUWWb"
      },
      "execution_count": null,
      "outputs": []
    }
  ]
}