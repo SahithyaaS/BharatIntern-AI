{
  "nbformat": 4,
  "nbformat_minor": 0,
  "metadata": {
    "colab": {
      "provenance": []
    },
    "kernelspec": {
      "name": "python3",
      "display_name": "Python 3"
    },
    "language_info": {
      "name": "python"
    }
  },
  "cells": [
    {
      "cell_type": "code",
      "execution_count": null,
      "metadata": {
        "colab": {
          "base_uri": "https://localhost:8080/"
        },
        "id": "58653Nvfc7RI",
        "outputId": "54897c78-c1e2-4b38-dfc8-6841ebe12240"
      },
      "outputs": [
        {
          "output_type": "stream",
          "name": "stdout",
          "text": [
            "Requirement already satisfied: pyspellchecker in /usr/local/lib/python3.10/dist-packages (0.7.2)\n"
          ]
        }
      ],
      "source": [
        "pip install pyspellchecker"
      ]
    },
    {
      "cell_type": "code",
      "source": [
        "from spellchecker import SpellChecker\n",
        "spell = SpellChecker()"
      ],
      "metadata": {
        "id": "lS8hKB29dFXv"
      },
      "execution_count": null,
      "outputs": []
    },
    {
      "cell_type": "code",
      "source": [
        "word = input(\"Enter the word to be correct:\")\n",
        "\n",
        "if word in spell:\n",
        "    print(\"'{}' is the correct word\".format(word))\n",
        "else:\n",
        "    corrected_word=spell.correction(word)\n",
        "    print(\"'{}' is the correct or nearest word for needed\".format(corrected_word))"
      ],
      "metadata": {
        "colab": {
          "base_uri": "https://localhost:8080/"
        },
        "id": "kTVRpFtXdNfz",
        "outputId": "780bd150-6598-4f9c-911c-fc1da125f032"
      },
      "execution_count": null,
      "outputs": [
        {
          "output_type": "stream",
          "name": "stdout",
          "text": [
            "Enter the word to be correct:accross\n",
            "'across' is the correct or nearest word for needed\n"
          ]
        }
      ]
    },
    {
      "cell_type": "code",
      "source": [],
      "metadata": {
        "id": "QfB-B8UHdXUN"
      },
      "execution_count": null,
      "outputs": []
    }
  ]
}